{
 "cells": [
  {
   "cell_type": "raw",
   "id": "29abe9d0",
   "metadata": {},
   "source": [
    "a = input()"
   ]
  },
  {
   "cell_type": "raw",
   "id": "cb057f21",
   "metadata": {},
   "source": [
    "a = input(\"데이터 입력하셈\")"
   ]
  },
  {
   "cell_type": "code",
   "execution_count": 3,
   "id": "62ac992b",
   "metadata": {},
   "outputs": [
    {
     "data": {
      "text/plain": [
       "str"
      ]
     },
     "execution_count": 3,
     "metadata": {},
     "output_type": "execute_result"
    }
   ],
   "source": [
    "type(a)"
   ]
  },
  {
   "cell_type": "code",
   "execution_count": 4,
   "id": "1a408357",
   "metadata": {},
   "outputs": [
    {
     "data": {
      "text/plain": [
       "1"
      ]
     },
     "execution_count": 4,
     "metadata": {},
     "output_type": "execute_result"
    }
   ],
   "source": [
    "int(a)"
   ]
  },
  {
   "cell_type": "code",
   "execution_count": 5,
   "id": "dfd68527",
   "metadata": {},
   "outputs": [
    {
     "data": {
      "text/plain": [
       "str"
      ]
     },
     "execution_count": 5,
     "metadata": {},
     "output_type": "execute_result"
    }
   ],
   "source": [
    "type(a)"
   ]
  },
  {
   "cell_type": "code",
   "execution_count": 6,
   "id": "81c8af87",
   "metadata": {},
   "outputs": [],
   "source": [
    "a = int(a)"
   ]
  },
  {
   "cell_type": "code",
   "execution_count": 7,
   "id": "1fda7ec0",
   "metadata": {},
   "outputs": [
    {
     "data": {
      "text/plain": [
       "int"
      ]
     },
     "execution_count": 7,
     "metadata": {},
     "output_type": "execute_result"
    }
   ],
   "source": [
    "type(a)"
   ]
  },
  {
   "cell_type": "code",
   "execution_count": 9,
   "id": "0efe896f",
   "metadata": {},
   "outputs": [
    {
     "name": "stdout",
     "output_type": "stream",
     "text": [
      "당신의 나이는14살입니다\n"
     ]
    }
   ],
   "source": [
    "age = 14\n",
    "age = str(age)\n",
    "print(\"당신의 나이는\"+age+\"살입니다\")"
   ]
  },
  {
   "cell_type": "code",
   "execution_count": 17,
   "id": "aa916fbd",
   "metadata": {},
   "outputs": [
    {
     "name": "stdout",
     "output_type": "stream",
     "text": [
      "na값 20 더하기 nb 값 5 의 결과물은 25 다\n",
      "na값 20 더하기 nb 값 5 의 결괏값은 25다\n",
      "na값 20 더하기 nb 값 5 의 결괏값은 25다.\n"
     ]
    }
   ],
   "source": [
    "na = 20\n",
    "nb = 5\n",
    "print(\"na값\", na, \"더하기 nb 값\", nb, \"의 결과물은\", na+nb,\"다\")\n",
    "print(\"na값 %d 더하기 nb 값 %d 의 결괏값은 %d다\"%(na, nb, na+nb))\n",
    "print(f\"na값 {na} 더하기 nb 값 {nb} 의 결괏값은 {na+nb }다.\")"
   ]
  },
  {
   "cell_type": "code",
   "execution_count": 20,
   "id": "5526b2df",
   "metadata": {},
   "outputs": [
    {
     "name": "stdout",
     "output_type": "stream",
     "text": [
      "나이를 입력하세요20\n",
      "당신의 나이는 20 살입니다.\n",
      "입장하세요\n"
     ]
    }
   ],
   "source": [
    "a = int(input(\"나이를 입력하세요\"))\n",
    "print(f\"당신의 나이는 {a} 살입니다.\")\n",
    "if a>= 19:\n",
    "    print(\"입장하세요\")\n",
    "else:\n",
    "    print(\"보호자와 함께 입장하세요\")"
   ]
  },
  {
   "cell_type": "code",
   "execution_count": 21,
   "id": "27aa4c99",
   "metadata": {},
   "outputs": [
    {
     "name": "stdout",
     "output_type": "stream",
     "text": [
      "이번달 용돈은 얼마인가요?10000\n",
      "이번달 지출 총액은 얼마인가요?11000\n",
      "용돈을 아껴쓰세요\n"
     ]
    }
   ],
   "source": [
    "rmoney = input(\"이번달 용돈은 얼마인가요?\")\n",
    "smoney = input(\"이번달 지출 총액은 얼마인가요?\")\n",
    "if rmoney>smoney :\n",
    "    print(\"용돈이 남았군요. 좀 더 스셔도 됩니다.\")\n",
    "elif rmoney==smoney :\n",
    "    print(\"용돈 관리를 잘했군요\")\n",
    "else:\n",
    "    print(\"용돈을 아껴쓰세요\")"
   ]
  },
  {
   "cell_type": "code",
   "execution_count": 29,
   "id": "e40b26bf",
   "metadata": {},
   "outputs": [
    {
     "name": "stdout",
     "output_type": "stream",
     "text": [
      "1 2 4 5 7 8 10 "
     ]
    }
   ],
   "source": [
    "for i in range(1,11):\n",
    "    if i%3==0:\n",
    "        continue\n",
    "    print(i, end = \" \")"
   ]
  },
  {
   "cell_type": "code",
   "execution_count": 30,
   "id": "a55c8d54",
   "metadata": {},
   "outputs": [
    {
     "name": "stdout",
     "output_type": "stream",
     "text": [
      "55\n"
     ]
    }
   ],
   "source": [
    "total = 0\n",
    "for sb in range(1,11):\n",
    "    total= total+sb\n",
    "    continue\n",
    "print(total)"
   ]
  },
  {
   "cell_type": "code",
   "execution_count": 42,
   "id": "77692cdd",
   "metadata": {},
   "outputs": [
    {
     "name": "stdout",
     "output_type": "stream",
     "text": [
      "<1단>\n",
      "1*1=1\n",
      "1*2=2\n",
      "1*3=3\n",
      "1*4=4\n",
      "1*5=5\n",
      "1*6=6\n",
      "1*7=7\n",
      "1*8=8\n",
      "1*9=9\n",
      "------------\n",
      "<2단>\n",
      "2*1=2\n",
      "2*2=4\n",
      "2*3=6\n",
      "2*4=8\n",
      "2*5=10\n",
      "2*6=12\n",
      "2*7=14\n",
      "2*8=16\n",
      "2*9=18\n",
      "------------\n",
      "<3단>\n",
      "3*1=3\n",
      "3*2=6\n",
      "3*3=9\n",
      "3*4=12\n",
      "3*5=15\n",
      "3*6=18\n",
      "3*7=21\n",
      "3*8=24\n",
      "3*9=27\n",
      "------------\n",
      "<4단>\n",
      "4*1=4\n",
      "4*2=8\n",
      "4*3=12\n",
      "4*4=16\n",
      "4*5=20\n",
      "4*6=24\n",
      "4*7=28\n",
      "4*8=32\n",
      "4*9=36\n",
      "------------\n",
      "<5단>\n",
      "5*1=5\n",
      "5*2=10\n",
      "5*3=15\n",
      "5*4=20\n",
      "5*5=25\n",
      "5*6=30\n",
      "5*7=35\n",
      "5*8=40\n",
      "5*9=45\n",
      "------------\n",
      "<6단>\n",
      "6*1=6\n",
      "6*2=12\n",
      "6*3=18\n",
      "6*4=24\n",
      "6*5=30\n",
      "6*6=36\n",
      "6*7=42\n",
      "6*8=48\n",
      "6*9=54\n",
      "------------\n",
      "<7단>\n",
      "7*1=7\n",
      "7*2=14\n",
      "7*3=21\n",
      "7*4=28\n",
      "7*5=35\n",
      "7*6=42\n",
      "7*7=49\n",
      "7*8=56\n",
      "7*9=63\n",
      "------------\n",
      "<8단>\n",
      "8*1=8\n",
      "8*2=16\n",
      "8*3=24\n",
      "8*4=32\n",
      "8*5=40\n",
      "8*6=48\n",
      "8*7=56\n",
      "8*8=64\n",
      "8*9=72\n",
      "------------\n",
      "<9단>\n",
      "9*1=9\n",
      "9*2=18\n",
      "9*3=27\n",
      "9*4=36\n",
      "9*5=45\n",
      "9*6=54\n",
      "9*7=63\n",
      "9*8=72\n",
      "9*9=81\n",
      "------------\n"
     ]
    }
   ],
   "source": [
    "for i in range(1,10):\n",
    "    print(f\"<{i}단>\")    \n",
    "    for s in range(1,10):\n",
    "        print(f\"{i}*{s}={i*s}\")\n",
    "    print(\"------------\")"
   ]
  },
  {
   "cell_type": "code",
   "execution_count": 43,
   "id": "a02c822a",
   "metadata": {},
   "outputs": [
    {
     "name": "stdout",
     "output_type": "stream",
     "text": [
      "1\n",
      "1\n",
      "1\n",
      "1\n",
      "1\n",
      "2\n",
      "2\n",
      "2\n",
      "2\n",
      "3\n",
      "3\n",
      "3\n",
      "4\n",
      "4\n",
      "5\n"
     ]
    }
   ],
   "source": [
    "for i in range(1,6):\n",
    "    for j in range(2,7):\n",
    "        if i<j:\n",
    "            print(ich)"
   ]
  },
  {
   "cell_type": "code",
   "execution_count": 52,
   "id": "d5871cf8",
   "metadata": {},
   "outputs": [
    {
     "data": {
      "text/plain": [
       "'A'"
      ]
     },
     "execution_count": 52,
     "metadata": {},
     "output_type": "execute_result"
    }
   ],
   "source": [
    "chr(65)"
   ]
  },
  {
   "cell_type": "code",
   "execution_count": 62,
   "id": "b4ff2ed0",
   "metadata": {},
   "outputs": [
    {
     "name": "stdout",
     "output_type": "stream",
     "text": [
      "take\n"
     ]
    }
   ],
   "source": [
    "c = \"take shit\"\n",
    "a, b = c.split()\n",
    "print(a\n",
    "     )"
   ]
  },
  {
   "cell_type": "code",
   "execution_count": 44,
   "id": "87080eac",
   "metadata": {},
   "outputs": [
    {
     "data": {
      "text/plain": [
       "'123456789'"
      ]
     },
     "execution_count": 44,
     "metadata": {},
     "output_type": "execute_result"
    }
   ],
   "source": [
    "\n",
    "a = '123456789'\n",
    "b = '234'\n",
    "len(a)\n",
    "a[:]"
   ]
  },
  {
   "cell_type": "code",
   "execution_count": 12,
   "id": "8369faaf",
   "metadata": {},
   "outputs": [
    {
     "data": {
      "text/plain": [
       "7"
      ]
     },
     "execution_count": 12,
     "metadata": {},
     "output_type": "execute_result"
    }
   ],
   "source": [
    "from operator import length_hint\n",
    "\n",
    "demoList = [\"Python\", 1, \"JavaScript\", True, \"HTML\", \"CSS\", 22]\n",
    "\n",
    "length_hint(demoList)"
   ]
  },
  {
   "cell_type": "code",
   "execution_count": null,
   "id": "363455d5",
   "metadata": {},
   "outputs": [],
   "source": []
  },
  {
   "cell_type": "markdown",
   "id": "4116a36b",
   "metadata": {},
   "source": [
    "5 ≤ players의 길이 ≤ 50,000\n",
    "players[i]는 i번째 선수의 이름을 의미합니다.\n",
    "players의 원소들은 알파벳 소문자로만 이루어져 있습니다.\n",
    "players에는 중복된 값이 들어가 있지 않습니다.\n",
    "3 ≤ players[i]의 길이 ≤ 10\n",
    "2 ≤ callings의 길이 ≤ 1,000,000\n",
    "callings는 players의 원소들로만 이루어져 있습니다.\n",
    "1경주 진행중 1등인 선수의 이름은 불리지 않습니다.\n",
    "\n",
    "[\"mumu\", \"soe\", \"poe\", \"kai\", \"mine\"]\n",
    "[\"kai\", \"kai\", \"mine\", \"mine\"]"
   ]
  },
  {
   "cell_type": "markdown",
   "id": "0e884e59",
   "metadata": {},
   "source": [
    "## 달리기경주 LV.1"
   ]
  },
  {
   "cell_type": "code",
   "execution_count": 33,
   "id": "6f3ab444",
   "metadata": {},
   "outputs": [
    {
     "data": {
      "text/plain": [
       "['mumu', 'kai', 'mine', 'soe', 'poe']"
      ]
     },
     "execution_count": 33,
     "metadata": {},
     "output_type": "execute_result"
    }
   ],
   "source": [
    "players = [\"mumu\", \"soe\", \"poe\", \"kai\", \"mine\"]\n",
    "callings = [\"kai\", \"kai\", \"mine\", \"mine\"]\n",
    "\n",
    "def solution(players, callings):\n",
    "    for over in callings:\n",
    "        index = players.index(over)\n",
    "        players[index], players[index - 1] = players[index - 1], players[index]\n",
    "    return players\n",
    "solution(players, callings)"
   ]
  },
  {
   "cell_type": "code",
   "execution_count": 108,
   "id": "72fca9f7",
   "metadata": {},
   "outputs": [
    {
     "name": "stdout",
     "output_type": "stream",
     "text": [
      "0\n",
      "0\n",
      "0\n",
      "2\n",
      "2\n"
     ]
    }
   ],
   "source": [
    "players = [\"mumu\", \"soe\", \"poe\", \"kai\", \"mine\"]\n",
    "callings = [\"kai\", \"kai\", \"mine\", \"mine\"]\n",
    "\n",
    "dict = {}\n",
    "answer = []\n",
    "\n",
    "for i,n in enumerate(players):\n",
    "    dict[n] = i\n",
    "    dict[n] = i - callings.count(n)\n",
    "    for k,v in dict.items():\n",
    "        if v == (i - callings.count(n)):\n",
    "            dict[k]-callings.count(n)\n",
    "        \n",
    "    print(dict)\n",
    "    "
   ]
  },
  {
   "cell_type": "code",
   "execution_count": 115,
   "id": "5935bced",
   "metadata": {},
   "outputs": [
    {
     "ename": "IndexError",
     "evalue": "list index out of range",
     "output_type": "error",
     "traceback": [
      "\u001b[1;31m---------------------------------------------------------------------------\u001b[0m",
      "\u001b[1;31mIndexError\u001b[0m                                Traceback (most recent call last)",
      "Input \u001b[1;32mIn [115]\u001b[0m, in \u001b[0;36m<cell line: 15>\u001b[1;34m()\u001b[0m\n\u001b[0;32m     12\u001b[0m     answer \u001b[38;5;241m=\u001b[39m [players[i \u001b[38;5;241m-\u001b[39m \u001b[38;5;241m1\u001b[39m] \u001b[38;5;28;01mfor\u001b[39;00m i \u001b[38;5;129;01min\u001b[39;00m result]\n\u001b[0;32m     13\u001b[0m     \u001b[38;5;28;01mreturn\u001b[39;00m answer\n\u001b[1;32m---> 15\u001b[0m \u001b[43msolution\u001b[49m\u001b[43m(\u001b[49m\u001b[43mplayers\u001b[49m\u001b[43m,\u001b[49m\u001b[43m \u001b[49m\u001b[43mcallings\u001b[49m\u001b[43m)\u001b[49m\n",
      "Input \u001b[1;32mIn [115]\u001b[0m, in \u001b[0;36msolution\u001b[1;34m(players, callings)\u001b[0m\n\u001b[0;32m      8\u001b[0m \u001b[38;5;28;01mfor\u001b[39;00m calling \u001b[38;5;129;01min\u001b[39;00m callings:\n\u001b[0;32m      9\u001b[0m     idx \u001b[38;5;241m=\u001b[39m player_dict[calling]\n\u001b[1;32m---> 10\u001b[0m     result[idx \u001b[38;5;241m-\u001b[39m \u001b[38;5;241m1\u001b[39m], result[idx] \u001b[38;5;241m=\u001b[39m \u001b[43mresult\u001b[49m\u001b[43m[\u001b[49m\u001b[43midx\u001b[49m\u001b[43m]\u001b[49m, result[idx \u001b[38;5;241m-\u001b[39m \u001b[38;5;241m1\u001b[39m]\n\u001b[0;32m     12\u001b[0m answer \u001b[38;5;241m=\u001b[39m [players[i \u001b[38;5;241m-\u001b[39m \u001b[38;5;241m1\u001b[39m] \u001b[38;5;28;01mfor\u001b[39;00m i \u001b[38;5;129;01min\u001b[39;00m result]\n\u001b[0;32m     13\u001b[0m \u001b[38;5;28;01mreturn\u001b[39;00m answer\n",
      "\u001b[1;31mIndexError\u001b[0m: list index out of range"
     ]
    }
   ],
   "source": [
    "players = [\"mumu\", \"soe\", \"poe\", \"kai\", \"mine\"]\n",
    "callings = [\"kai\", \"kai\", \"mine\", \"mine\"]\n",
    "\n",
    "def solution(players, callings):\n",
    "    player_dict = {name: idx + 1 for idx, name in enumerate(players)}\n",
    "    result = list(range(1, len(players) + 1))\n",
    "\n",
    "    for calling in callings:\n",
    "        idx = player_dict[calling]\n",
    "        result[idx - 1], result[idx] = result[idx], result[idx - 1]\n",
    "\n",
    "    answer = [players[i - 1] for i in result]\n",
    "    return answer\n",
    "\n",
    "solution(players, callings)"
   ]
  },
  {
   "cell_type": "code",
   "execution_count": 117,
   "id": "118738f7",
   "metadata": {},
   "outputs": [
    {
     "ename": "IndexError",
     "evalue": "list index out of range",
     "output_type": "error",
     "traceback": [
      "\u001b[1;31m---------------------------------------------------------------------------\u001b[0m",
      "\u001b[1;31mIndexError\u001b[0m                                Traceback (most recent call last)",
      "Input \u001b[1;32mIn [117]\u001b[0m, in \u001b[0;36m<cell line: 15>\u001b[1;34m()\u001b[0m\n\u001b[0;32m     12\u001b[0m     answer \u001b[38;5;241m=\u001b[39m [players[i \u001b[38;5;241m-\u001b[39m \u001b[38;5;241m1\u001b[39m] \u001b[38;5;28;01mfor\u001b[39;00m i \u001b[38;5;129;01min\u001b[39;00m result]\n\u001b[0;32m     13\u001b[0m     \u001b[38;5;28;01mreturn\u001b[39;00m answer\n\u001b[1;32m---> 15\u001b[0m \u001b[43msolution\u001b[49m\u001b[43m(\u001b[49m\u001b[43mplayers\u001b[49m\u001b[43m,\u001b[49m\u001b[43m \u001b[49m\u001b[43mcallings\u001b[49m\u001b[43m)\u001b[49m\n",
      "Input \u001b[1;32mIn [117]\u001b[0m, in \u001b[0;36msolution\u001b[1;34m(players, callings)\u001b[0m\n\u001b[0;32m      8\u001b[0m \u001b[38;5;28;01mfor\u001b[39;00m calling \u001b[38;5;129;01min\u001b[39;00m callings:\n\u001b[0;32m      9\u001b[0m     idx \u001b[38;5;241m=\u001b[39m player_dict[calling] \u001b[38;5;241m-\u001b[39m \u001b[38;5;241m1\u001b[39m\n\u001b[1;32m---> 10\u001b[0m     result[idx], result[idx \u001b[38;5;241m+\u001b[39m \u001b[38;5;241m1\u001b[39m] \u001b[38;5;241m=\u001b[39m \u001b[43mresult\u001b[49m\u001b[43m[\u001b[49m\u001b[43midx\u001b[49m\u001b[43m \u001b[49m\u001b[38;5;241;43m+\u001b[39;49m\u001b[43m \u001b[49m\u001b[38;5;241;43m1\u001b[39;49m\u001b[43m]\u001b[49m, result[idx]\n\u001b[0;32m     12\u001b[0m answer \u001b[38;5;241m=\u001b[39m [players[i \u001b[38;5;241m-\u001b[39m \u001b[38;5;241m1\u001b[39m] \u001b[38;5;28;01mfor\u001b[39;00m i \u001b[38;5;129;01min\u001b[39;00m result]\n\u001b[0;32m     13\u001b[0m \u001b[38;5;28;01mreturn\u001b[39;00m answer\n",
      "\u001b[1;31mIndexError\u001b[0m: list index out of range"
     ]
    }
   ],
   "source": [
    "players = [\"mumu\", \"soe\", \"poe\", \"kai\", \"mine\"]\n",
    "callings = [\"kai\", \"kai\", \"mine\", \"mine\"]\n",
    "\n",
    "def solution(players, callings):\n",
    "    player_dict = {name: idx + 1 for idx, name in enumerate(players)}\n",
    "    result = list(range(1, len(players) + 1))\n",
    "\n",
    "    for calling in callings:\n",
    "        idx = player_dict[calling] - 1\n",
    "        result[idx], result[idx + 1] = result[idx + 1], result[idx]\n",
    "\n",
    "    answer = [players[i - 1] for i in result]\n",
    "    return answer\n",
    "\n",
    "solution(players, callings)"
   ]
  },
  {
   "cell_type": "code",
   "execution_count": 119,
   "id": "f9fe0086",
   "metadata": {},
   "outputs": [
    {
     "data": {
      "text/plain": [
       "['mumu', 'soe', 'poe', 'kai', 'mine']"
      ]
     },
     "execution_count": 119,
     "metadata": {},
     "output_type": "execute_result"
    }
   ],
   "source": [
    "players = [\"mumu\", \"soe\", \"poe\", \"kai\", \"mine\"]\n",
    "callings = [\"kai\", \"kai\", \"mine\", \"mine\"]\n",
    "\n",
    "def solution(players, callings):\n",
    "    player_dict = {name: idx + 1 for idx, name in enumerate(players)}\n",
    "    result = list(range(1, len(players) + 1))\n",
    "\n",
    "    for calling in callings:\n",
    "        idx = player_dict[calling] - 1\n",
    "        if 0 <= idx < len(result) - 1:\n",
    "            result[idx], result[idx + 1] = result[idx + 1], result[idx]\n",
    "\n",
    "    answer = [players[i - 1] for i in result]\n",
    "    return answer\n",
    "\n",
    "solution(players, callings)"
   ]
  },
  {
   "cell_type": "code",
   "execution_count": 127,
   "id": "7e3a9762",
   "metadata": {},
   "outputs": [
    {
     "data": {
      "text/plain": [
       "['mumu', 'soe', 'poe', 'kai', 'mine']"
      ]
     },
     "execution_count": 127,
     "metadata": {},
     "output_type": "execute_result"
    }
   ],
   "source": [
    "players = [\"mumu\", \"soe\", \"poe\", \"kai\", \"mine\"]\n",
    "callings = [\"kai\", \"kai\", \"mine\", \"mine\"]\n",
    "\n",
    "def solution(players, callings):\n",
    "    player_dict = {name: idx for idx, name in enumerate(players)}\n",
    "    result = list(range(1, len(players) + 1))\n",
    "\n",
    "    for calling in callings:\n",
    "        idx = player_dict[calling] - 1\n",
    "        if 0 <= idx < len(result) - 1:\n",
    "            result[idx], result[idx + 1] = result[idx + 1], result[idx]\n",
    "\n",
    "    # 등수를 기준으로 선수 이름을 정렬\n",
    "    sorted_players = [player for _, player in sorted(zip(result, players))]\n",
    "\n",
    "    return sorted_players\n",
    "\n",
    "solution(players, callings)"
   ]
  },
  {
   "cell_type": "code",
   "execution_count": null,
   "id": "3df67419",
   "metadata": {},
   "outputs": [],
   "source": [
    "def solution(players, callings):\n",
    "    answer = players[:]\n",
    "    \n",
    "    for calling in callings:\n",
    "        idx = answer.index(calling)\n",
    "        answer[idx], answer[idx - 1] = answer[idx - 1], answer[idx]\n",
    "\n",
    "    return answer"
   ]
  },
  {
   "cell_type": "code",
   "execution_count": 39,
   "id": "e645b1e3",
   "metadata": {},
   "outputs": [
    {
     "name": "stdout",
     "output_type": "stream",
     "text": [
      "['a']\n"
     ]
    }
   ],
   "source": [
    "a = ['a','b','c','d','e','f']\n",
    "b = [1,2,3,4,5]\n",
    "c = []\n",
    "c.append('a')\n",
    "print(c)"
   ]
  },
  {
   "cell_type": "code",
   "execution_count": 8,
   "id": "761ca64d",
   "metadata": {},
   "outputs": [
    {
     "name": "stdout",
     "output_type": "stream",
     "text": [
      "[0, 0, 2, 4]\n"
     ]
    }
   ],
   "source": [
    "wallpaper = [\".#...\", \"..#..\", \"...#.\"]\n",
    "x = [] ; y = [] ; answer = []\n",
    "for i,k in enumerate(wallpaper):\n",
    "    for j,l in enumerate(k):\n",
    "        x.append(i) ; y.append(j) ;\n",
    "answer.extend([min(x), min(y), max(x), max(y)])\n",
    "print(answer)"
   ]
  },
  {
   "cell_type": "code",
   "execution_count": 14,
   "id": "fa1ffd8c",
   "metadata": {},
   "outputs": [
    {
     "name": "stdout",
     "output_type": "stream",
     "text": [
      "몇 개를 출력할까요?: 4\n",
      "+"
     ]
    }
   ],
   "source": [
    "n = int(input('몇 개를 출력할까요?: '))\n",
    "if n//2:\n",
    "    print('+', end = '')"
   ]
  },
  {
   "cell_type": "code",
   "execution_count": 16,
   "id": "322966e7",
   "metadata": {},
   "outputs": [
    {
     "data": {
      "text/plain": [
       "2"
      ]
     },
     "execution_count": 16,
     "metadata": {},
     "output_type": "execute_result"
    }
   ],
   "source": [
    "5//2"
   ]
  },
  {
   "cell_type": "code",
   "execution_count": 24,
   "id": "61f7681b",
   "metadata": {},
   "outputs": [
    {
     "name": "stdout",
     "output_type": "stream",
     "text": [
      "n 값을 입력하세요.: -1\n",
      "n 값을 입력하세요.: -3\n",
      "n 값을 입력하세요.: -4\n",
      "n 값을 입력하세요.: 4\n"
     ]
    }
   ],
   "source": [
    "while True:\n",
    "    n = int(input('n 값을 입력하세요.: '))\n",
    "    if n > 0:\n",
    "        break"
   ]
  },
  {
   "cell_type": "code",
   "execution_count": 6,
   "id": "aaf4396f",
   "metadata": {},
   "outputs": [
    {
     "name": "stdout",
     "output_type": "stream",
     "text": [
      "3\n"
     ]
    }
   ],
   "source": [
    "def solution(t, p):\n",
    "    answer = 0\n",
    "    tlength = len(t)\n",
    "    plength = len(p)\n",
    "    for i in range(len(t)  - len(p)+1):\n",
    "        sr_t = int(t[i:i+plength])\n",
    "        if sr_t <= int(p):\n",
    "            answer += 1\n",
    "    return answer\n",
    "    \n",
    "print(solution(\"10203\",\"15\"))"
   ]
  },
  {
   "cell_type": "code",
   "execution_count": null,
   "id": "e2633304",
   "metadata": {},
   "outputs": [],
   "source": []
  }
 ],
 "metadata": {
  "kernelspec": {
   "display_name": "Python 3 (ipykernel)",
   "language": "python",
   "name": "python3"
  },
  "language_info": {
   "codemirror_mode": {
    "name": "ipython",
    "version": 3
   },
   "file_extension": ".py",
   "mimetype": "text/x-python",
   "name": "python",
   "nbconvert_exporter": "python",
   "pygments_lexer": "ipython3",
   "version": "3.9.12"
  }
 },
 "nbformat": 4,
 "nbformat_minor": 5
}
